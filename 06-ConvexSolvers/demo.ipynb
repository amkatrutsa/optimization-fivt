{
 "cells": [
  {
   "cell_type": "code",
   "execution_count": 1,
   "metadata": {
    "slideshow": {
     "slide_type": "slide"
    }
   },
   "outputs": [],
   "source": [
    "import cvxpy as cvx\n",
    "import ipopt\n",
    "import numpy as np\n",
    "import matplotlib.pyplot as plt\n",
    "plt.rc(\"text\", usetex=True)\n",
    "%matplotlib inline"
   ]
  },
  {
   "cell_type": "markdown",
   "metadata": {
    "slideshow": {
     "slide_type": "slide"
    }
   },
   "source": [
    "## DCP with CVXPy\n",
    "\n",
    "Model problem is [compressed sensing](https://www.raeng.org.uk/publications/other/candes-presentation-frontiers-of-engineering)\n",
    "\n",
    "\\begin{align*}\n",
    "& \\min_x \\|x\\|_1\\\\\n",
    "\\text{s.t. } & Ax = b,\n",
    "\\end{align*}\n",
    "где $A \\in \\mathbb{R}^{m \\times n}$ и $n \\gg m$"
   ]
  },
  {
   "cell_type": "markdown",
   "metadata": {
    "slideshow": {
     "slide_type": "slide"
    }
   },
   "source": [
    "### Data generation"
   ]
  },
  {
   "cell_type": "code",
   "execution_count": 2,
   "metadata": {
    "slideshow": {
     "slide_type": "subslide"
    }
   },
   "outputs": [
    {
     "name": "stdout",
     "output_type": "stream",
     "text": [
      "Num of nnz in x = 45\n"
     ]
    }
   ],
   "source": [
    "n = 1000\n",
    "m = 10\n",
    "x_true = np.random.randn(n)\n",
    "x_true[np.abs(x_true) > 0.05] = 0\n",
    "print(\"Num of nnz in x = {}\".format(np.sum(x_true != 0)))\n",
    "A = np.random.randn(m, n)\n",
    "b = A.dot(x_true)"
   ]
  },
  {
   "cell_type": "markdown",
   "metadata": {
    "slideshow": {
     "slide_type": "slide"
    }
   },
   "source": [
    "### [CVXPy](http://www.cvxpy.org/index.html) "
   ]
  },
  {
   "cell_type": "code",
   "execution_count": 3,
   "metadata": {
    "slideshow": {
     "slide_type": "subslide"
    }
   },
   "outputs": [
    {
     "name": "stdout",
     "output_type": "stream",
     "text": [
      "----------------------------------------------------------------------------\n",
      "\tSCS v1.2.6 - Splitting Conic Solver\n",
      "\t(c) Brendan O'Donoghue, Stanford University, 2012-2016\n",
      "----------------------------------------------------------------------------\n",
      "Lin-sys: sparse-indirect, nnz in A = 14000, CG tol ~ 1/iter^(2.00)\n",
      "eps = 1.00e-04, alpha = 1.50, max_iters = 3000, normalize = 1, scale = 1.00\n",
      "Variables n = 2000, constraints m = 2010\n",
      "Cones:\tprimal zero / dual free vars: 10\n",
      "\tlinear vars: 2000\n",
      "Setup time: 1.39e-03s\n",
      "----------------------------------------------------------------------------\n",
      " Iter | pri res | dua res | rel gap | pri obj | dua obj | kap/tau | time (s)\n",
      "----------------------------------------------------------------------------\n",
      "     0|      inf       inf       nan      -inf       inf       inf  2.79e-03 \n",
      "   100| 1.34e-03  1.21e-02  6.42e-04  2.38e-01  2.39e-01  5.98e-17  3.10e-02 \n",
      "   200| 9.11e-04  8.86e-03  2.87e-04  2.31e-01  2.31e-01  3.54e-17  5.86e-02 \n",
      "   300| 5.97e-04  6.21e-03  1.93e-04  2.27e-01  2.27e-01  3.96e-17  8.77e-02 \n",
      "   400| 7.52e-04  4.41e-03  3.20e-06  2.24e-01  2.24e-01  4.26e-17  1.16e-01 \n",
      "   500| 4.87e-04  3.98e-03  4.30e-05  2.24e-01  2.24e-01  4.37e-17  1.43e-01 \n",
      "   600| 6.83e-04  3.15e-03  1.07e-04  2.23e-01  2.24e-01  4.50e-17  1.70e-01 \n",
      "   700| 4.40e-04  2.76e-03  8.62e-05  2.23e-01  2.23e-01  4.65e-17  1.97e-01 \n",
      "   800| 3.58e-04  1.78e-03  1.61e-05  2.22e-01  2.22e-01  4.75e-17  2.26e-01 \n",
      "   900| 3.06e-04  1.74e-03  2.36e-05  2.22e-01  2.22e-01  4.81e-17  2.58e-01 \n",
      "  1000| 2.84e-04  1.49e-03  1.56e-05  2.22e-01  2.22e-01  4.85e-17  2.89e-01 \n",
      "  1100| 2.82e-04  9.50e-04  3.90e-05  2.22e-01  2.22e-01  4.83e-17  3.17e-01 \n",
      "  1200| 1.57e-04  1.12e-03  3.79e-06  2.22e-01  2.22e-01  4.84e-17  3.44e-01 \n",
      "  1300| 1.20e-04  9.65e-04  4.30e-06  2.22e-01  2.22e-01  4.84e-17  3.72e-01 \n",
      "  1400| 1.97e-04  6.52e-04  4.68e-06  2.22e-01  2.22e-01  4.86e-17  3.98e-01 \n",
      "  1500| 1.71e-04  6.07e-04  5.83e-06  2.22e-01  2.22e-01  4.86e-17  4.25e-01 \n",
      "  1600| 8.71e-05  7.85e-04  6.16e-06  2.22e-01  2.22e-01  4.86e-17  4.57e-01 \n",
      "  1700| 9.59e-05  7.33e-04  2.43e-06  2.22e-01  2.22e-01  4.87e-17  4.87e-01 \n",
      "  1800| 1.64e-04  4.49e-04  3.38e-06  2.22e-01  2.22e-01  4.88e-17  5.16e-01 \n",
      "  1900| 1.38e-04  5.27e-04  5.39e-06  2.22e-01  2.22e-01  4.89e-17  5.45e-01 \n",
      "  2000| 6.98e-05  6.67e-04  2.51e-06  2.22e-01  2.22e-01  4.89e-17  5.75e-01 \n",
      "  2100| 9.24e-05  6.03e-04  6.18e-07  2.22e-01  2.22e-01  4.90e-17  6.04e-01 \n",
      "  2200| 1.28e-04  4.61e-04  7.86e-06  2.22e-01  2.22e-01  4.92e-17  6.34e-01 \n",
      "  2300| 1.09e-04  4.99e-04  2.99e-06  2.22e-01  2.22e-01  4.92e-17  6.64e-01 \n",
      "  2400| 5.03e-05  5.70e-04  5.34e-06  2.22e-01  2.22e-01  4.93e-17  6.95e-01 \n",
      "  2500| 7.90e-05  5.05e-04  3.59e-06  2.22e-01  2.22e-01  4.94e-17  7.26e-01 \n",
      "  2600| 1.02e-04  4.25e-04  4.53e-06  2.22e-01  2.22e-01  4.95e-17  7.56e-01 \n",
      "  2700| 8.95e-05  4.36e-04  5.80e-06  2.22e-01  2.22e-01  4.96e-17  7.85e-01 \n",
      "  2800| 5.23e-05  5.13e-04  2.55e-06  2.22e-01  2.22e-01  4.98e-17  8.14e-01 \n",
      "  2900| 6.43e-05  4.81e-04  4.59e-06  2.22e-01  2.22e-01  4.99e-17  8.40e-01 \n",
      "  3000| 8.26e-05  4.23e-04  6.91e-06  2.22e-01  2.22e-01  5.00e-17  8.66e-01 \n",
      "----------------------------------------------------------------------------\n",
      "Status: Solved/Inaccurate\n",
      "Hit max_iters, solution may be inaccurate\n",
      "Timing: Solve time: 8.66e-01s\n",
      "\tLin-sys: avg # CG iterations: 4.92, avg solve time: 2.60e-04s\n",
      "\tCones: avg projection time: 1.16e-06s\n",
      "----------------------------------------------------------------------------\n",
      "Error metrics:\n",
      "dist(s, K) = 1.9410e-17, dist(y, K*) = 0.0000e+00, s'y/|s||y| = -7.6101e-19\n",
      "|Ax + s - b|_2 / (1 + |b|_2) = 8.2576e-05\n",
      "|A'y + c|_2 / (1 + |c|_2) = 4.2255e-04\n",
      "|c'x + b'y| / (1 + |c'x| + |b'y|) = 6.9122e-06\n",
      "----------------------------------------------------------------------------\n",
      "c'x = 0.2217, -b'y = 0.2217\n",
      "============================================================================\n"
     ]
    },
    {
     "data": {
      "text/plain": [
       "0.22172806576509355"
      ]
     },
     "execution_count": 3,
     "metadata": {},
     "output_type": "execute_result"
    }
   ],
   "source": [
    "x = cvx.Variable(n)\n",
    "objective = cvx.norm1(x)\n",
    "constr = [A*x == b]\n",
    "problem = cvx.Problem(cvx.Minimize(objective), constr) \n",
    "problem.solve(verbose=True, max_iters=3000, solver=\"SCS\")"
   ]
  },
  {
   "cell_type": "markdown",
   "metadata": {
    "slideshow": {
     "slide_type": "slide"
    }
   },
   "source": [
    "### Check solution"
   ]
  },
  {
   "cell_type": "code",
   "execution_count": 4,
   "metadata": {
    "slideshow": {
     "slide_type": "subslide"
    }
   },
   "outputs": [
    {
     "name": "stdout",
     "output_type": "stream",
     "text": [
      "0.00012982996616774656\n",
      "0.0002653832780144073\n",
      "0.20686794882265463\n",
      "Num nnz = 12\n"
     ]
    }
   ],
   "source": [
    "tol= 1e-4\n",
    "print(np.linalg.norm(A.dot(x.value) - b))\n",
    "print(np.linalg.norm(A[:, np.abs(x.value) > tol].dot(x.value[np.abs(x.value) > tol]) - b))\n",
    "print(np.linalg.norm(x_true - x.value))\n",
    "print(\"Num nnz = {}\".format(np.sum(np.abs(x.value) > tol)))"
   ]
  },
  {
   "cell_type": "code",
   "execution_count": 5,
   "metadata": {
    "slideshow": {
     "slide_type": "slide"
    }
   },
   "outputs": [
    {
     "data": {
      "text/plain": [
       "(array([-0.06, -0.04, -0.02,  0.  ,  0.02,  0.04,  0.06,  0.08]),\n",
       " <a list of 8 Text yticklabel objects>)"
      ]
     },
     "execution_count": 5,
     "metadata": {},
     "output_type": "execute_result"
    },
    {
     "data": {
      "image/png": "[encoded data removed]",
      "text/plain": [
       "<Figure size 720x576 with 1 Axes>"
      ]
     },
     "metadata": {},
     "output_type": "display_data"
    }
   ],
   "source": [
    "plt.figure(figsize=(10, 8))\n",
    "plt.plot(x.value, label=r\"$x^*$\")\n",
    "plt.plot(x_true, label=r\"True $x$\")\n",
    "plt.legend(fontsize=26)\n",
    "plt.yticks(fontsize=26)"
   ]
  },
  {
   "cell_type": "code",
   "execution_count": 6,
   "metadata": {
    "slideshow": {
     "slide_type": "slide"
    }
   },
   "outputs": [
    {
     "data": {
      "text/plain": [
       "(array([-200.,    0.,  200.,  400.,  600.,  800., 1000., 1200.]),\n",
       " <a list of 8 Text xticklabel objects>)"
      ]
     },
     "execution_count": 6,
     "metadata": {},
     "output_type": "execute_result"
    },
    {
     "data": {
      "image/png": "[encoded data removed]",
      "text/plain": [
       "<Figure size 648x504 with 1 Axes>"
      ]
     },
     "metadata": {},
     "output_type": "display_data"
    }
   ],
   "source": [
    "plt.figure(figsize=(9, 7))\n",
    "plt.semilogy(np.sort(np.abs(x.value))[::-1])\n",
    "plt.ylabel(\"$|x_i|$\", fontsize=24)\n",
    "plt.yticks(fontsize=24)\n",
    "plt.xlabel(r\"Sorted index of $x^*$\", fontsize=24)\n",
    "plt.xticks(fontsize=24)"
   ]
  },
  {
   "cell_type": "markdown",
   "metadata": {
    "slideshow": {
     "slide_type": "slide"
    }
   },
   "source": [
    "### Check DCP"
   ]
  },
  {
   "cell_type": "code",
   "execution_count": 7,
   "metadata": {
    "slideshow": {
     "slide_type": "subslide"
    }
   },
   "outputs": [
    {
     "ename": "DCPError",
     "evalue": "Problem does not follow DCP rules. Specifically:\nThe following constraints are not DCP:\npower(var53 + -3.0, 2) == 0.0 , because the following subexpressions are not:\n|--  power(var53 + -3.0, 2) == 0.0",
     "output_type": "error",
     "traceback": [
      "\u001b[0;31m---------------------------------------------------------------------------\u001b[0m",
      "\u001b[0;31mDCPError\u001b[0m                                  Traceback (most recent call last)",
      "\u001b[0;32m<ipython-input-7-9514b8583bfe>\u001b[0m in \u001b[0;36m<module>\u001b[0;34m()\u001b[0m\n\u001b[1;32m      3\u001b[0m \u001b[0mobj\u001b[0m \u001b[0;34m=\u001b[0m \u001b[0mcvx\u001b[0m\u001b[0;34m.\u001b[0m\u001b[0mMinimize\u001b[0m\u001b[0;34m(\u001b[0m\u001b[0mcvx\u001b[0m\u001b[0;34m.\u001b[0m\u001b[0mpower\u001b[0m\u001b[0;34m(\u001b[0m\u001b[0my\u001b[0m\u001b[0;34m,\u001b[0m \u001b[0;36m3\u001b[0m\u001b[0;34m)\u001b[0m\u001b[0;34m)\u001b[0m\u001b[0;34m\u001b[0m\u001b[0;34m\u001b[0m\u001b[0m\n\u001b[1;32m      4\u001b[0m \u001b[0mproblem\u001b[0m \u001b[0;34m=\u001b[0m \u001b[0mcvx\u001b[0m\u001b[0;34m.\u001b[0m\u001b[0mProblem\u001b[0m\u001b[0;34m(\u001b[0m\u001b[0mobj\u001b[0m\u001b[0;34m,\u001b[0m \u001b[0;34m[\u001b[0m\u001b[0mcvx\u001b[0m\u001b[0;34m.\u001b[0m\u001b[0mpower\u001b[0m\u001b[0;34m(\u001b[0m\u001b[0my\u001b[0m\u001b[0;34m-\u001b[0m\u001b[0;36m3\u001b[0m\u001b[0;34m,\u001b[0m \u001b[0;36m2\u001b[0m\u001b[0;34m)\u001b[0m \u001b[0;34m==\u001b[0m \u001b[0;36m0\u001b[0m\u001b[0;34m]\u001b[0m\u001b[0;34m)\u001b[0m\u001b[0;34m\u001b[0m\u001b[0;34m\u001b[0m\u001b[0m\n\u001b[0;32m----> 5\u001b[0;31m \u001b[0mproblem\u001b[0m\u001b[0;34m.\u001b[0m\u001b[0msolve\u001b[0m\u001b[0;34m(\u001b[0m\u001b[0mverbose\u001b[0m\u001b[0;34m=\u001b[0m\u001b[0;32mTrue\u001b[0m\u001b[0;34m)\u001b[0m\u001b[0;34m\u001b[0m\u001b[0;34m\u001b[0m\u001b[0m\n\u001b[0m\u001b[1;32m      6\u001b[0m \u001b[0mprint\u001b[0m\u001b[0;34m(\u001b[0m\u001b[0my\u001b[0m\u001b[0;34m.\u001b[0m\u001b[0mvalue\u001b[0m\u001b[0;34m)\u001b[0m\u001b[0;34m\u001b[0m\u001b[0;34m\u001b[0m\u001b[0m\n",
      "\u001b[0;32m~/anaconda3/envs/cvxpy/lib/python3.6/site-packages/cvxpy/problems/problem.py\u001b[0m in \u001b[0;36msolve\u001b[0;34m(self, *args, **kwargs)\u001b[0m\n\u001b[1;32m    287\u001b[0m         \u001b[0;32melse\u001b[0m\u001b[0;34m:\u001b[0m\u001b[0;34m\u001b[0m\u001b[0;34m\u001b[0m\u001b[0m\n\u001b[1;32m    288\u001b[0m             \u001b[0msolve_func\u001b[0m \u001b[0;34m=\u001b[0m \u001b[0mProblem\u001b[0m\u001b[0;34m.\u001b[0m\u001b[0m_solve\u001b[0m\u001b[0;34m\u001b[0m\u001b[0;34m\u001b[0m\u001b[0m\n\u001b[0;32m--> 289\u001b[0;31m         \u001b[0;32mreturn\u001b[0m \u001b[0msolve_func\u001b[0m\u001b[0;34m(\u001b[0m\u001b[0mself\u001b[0m\u001b[0;34m,\u001b[0m \u001b[0;34m*\u001b[0m\u001b[0margs\u001b[0m\u001b[0;34m,\u001b[0m \u001b[0;34m**\u001b[0m\u001b[0mkwargs\u001b[0m\u001b[0;34m)\u001b[0m\u001b[0;34m\u001b[0m\u001b[0;34m\u001b[0m\u001b[0m\n\u001b[0m\u001b[1;32m    290\u001b[0m \u001b[0;34m\u001b[0m\u001b[0m\n\u001b[1;32m    291\u001b[0m     \u001b[0;34m@\u001b[0m\u001b[0mclassmethod\u001b[0m\u001b[0;34m\u001b[0m\u001b[0;34m\u001b[0m\u001b[0m\n",
      "\u001b[0;32m~/anaconda3/envs/cvxpy/lib/python3.6/site-packages/cvxpy/problems/problem.py\u001b[0m in \u001b[0;36m_solve\u001b[0;34m(self, solver, warm_start, verbose, parallel, gp, qcp, **kwargs)\u001b[0m\n\u001b[1;32m    565\u001b[0m                     solver, warm_start, verbose, **kwargs)\n\u001b[1;32m    566\u001b[0m \u001b[0;34m\u001b[0m\u001b[0m\n\u001b[0;32m--> 567\u001b[0;31m         \u001b[0mself\u001b[0m\u001b[0;34m.\u001b[0m\u001b[0m_construct_chains\u001b[0m\u001b[0;34m(\u001b[0m\u001b[0msolver\u001b[0m\u001b[0;34m=\u001b[0m\u001b[0msolver\u001b[0m\u001b[0;34m,\u001b[0m \u001b[0mgp\u001b[0m\u001b[0;34m=\u001b[0m\u001b[0mgp\u001b[0m\u001b[0;34m)\u001b[0m\u001b[0;34m\u001b[0m\u001b[0;34m\u001b[0m\u001b[0m\n\u001b[0m\u001b[1;32m    568\u001b[0m         data, solving_inverse_data = self._solving_chain.apply(\n\u001b[1;32m    569\u001b[0m             self._intermediate_problem)\n",
      "\u001b[0;32m~/anaconda3/envs/cvxpy/lib/python3.6/site-packages/cvxpy/problems/problem.py\u001b[0m in \u001b[0;36m_construct_chains\u001b[0;34m(self, solver, gp)\u001b[0m\n\u001b[1;32m    508\u001b[0m \u001b[0;34m\u001b[0m\u001b[0m\n\u001b[1;32m    509\u001b[0m             \u001b[0;32mexcept\u001b[0m \u001b[0mException\u001b[0m \u001b[0;32mas\u001b[0m \u001b[0me\u001b[0m\u001b[0;34m:\u001b[0m\u001b[0;34m\u001b[0m\u001b[0;34m\u001b[0m\u001b[0m\n\u001b[0;32m--> 510\u001b[0;31m                 \u001b[0;32mraise\u001b[0m \u001b[0me\u001b[0m\u001b[0;34m\u001b[0m\u001b[0;34m\u001b[0m\u001b[0m\n\u001b[0m\u001b[1;32m    511\u001b[0m \u001b[0;34m\u001b[0m\u001b[0m\n\u001b[1;32m    512\u001b[0m     def _solve(self,\n",
      "\u001b[0;32m~/anaconda3/envs/cvxpy/lib/python3.6/site-packages/cvxpy/problems/problem.py\u001b[0m in \u001b[0;36m_construct_chains\u001b[0;34m(self, solver, gp)\u001b[0m\n\u001b[1;32m    497\u001b[0m \u001b[0;34m\u001b[0m\u001b[0m\n\u001b[1;32m    498\u001b[0m                 \u001b[0mself\u001b[0m\u001b[0;34m.\u001b[0m\u001b[0m_intermediate_chain\u001b[0m \u001b[0;34m=\u001b[0m\u001b[0;31m \u001b[0m\u001b[0;31m\\\u001b[0m\u001b[0;34m\u001b[0m\u001b[0;34m\u001b[0m\u001b[0m\n\u001b[0;32m--> 499\u001b[0;31m                     \u001b[0mconstruct_intermediate_chain\u001b[0m\u001b[0;34m(\u001b[0m\u001b[0mself\u001b[0m\u001b[0;34m,\u001b[0m \u001b[0mcandidate_solvers\u001b[0m\u001b[0;34m,\u001b[0m \u001b[0mgp\u001b[0m\u001b[0;34m=\u001b[0m\u001b[0mgp\u001b[0m\u001b[0;34m)\u001b[0m\u001b[0;34m\u001b[0m\u001b[0;34m\u001b[0m\u001b[0m\n\u001b[0m\u001b[1;32m    500\u001b[0m                 \u001b[0mself\u001b[0m\u001b[0;34m.\u001b[0m\u001b[0m_intermediate_problem\u001b[0m\u001b[0;34m,\u001b[0m \u001b[0mself\u001b[0m\u001b[0;34m.\u001b[0m\u001b[0m_intermediate_inverse_data\u001b[0m \u001b[0;34m=\u001b[0m\u001b[0;31m \u001b[0m\u001b[0;31m\\\u001b[0m\u001b[0;34m\u001b[0m\u001b[0;34m\u001b[0m\u001b[0m\n\u001b[1;32m    501\u001b[0m                     \u001b[0mself\u001b[0m\u001b[0;34m.\u001b[0m\u001b[0m_intermediate_chain\u001b[0m\u001b[0;34m.\u001b[0m\u001b[0mapply\u001b[0m\u001b[0;34m(\u001b[0m\u001b[0mself\u001b[0m\u001b[0;34m)\u001b[0m\u001b[0;34m\u001b[0m\u001b[0;34m\u001b[0m\u001b[0m\n",
      "\u001b[0;32m~/anaconda3/envs/cvxpy/lib/python3.6/site-packages/cvxpy/reductions/solvers/intermediate_chain.py\u001b[0m in \u001b[0;36mconstruct_intermediate_chain\u001b[0;34m(problem, candidates, gp)\u001b[0m\n\u001b[1;32m     68\u001b[0m             append += (\"\\nHowever, the problem does follow DQCP rules. \"\n\u001b[1;32m     69\u001b[0m                        \"Consider calling solve() with `qcp=True`.\")\n\u001b[0;32m---> 70\u001b[0;31m         \u001b[0;32mraise\u001b[0m \u001b[0mDCPError\u001b[0m\u001b[0;34m(\u001b[0m\u001b[0;34m\"Problem does not follow DCP rules. Specifically:\\n\"\u001b[0m \u001b[0;34m+\u001b[0m \u001b[0mappend\u001b[0m\u001b[0;34m)\u001b[0m\u001b[0;34m\u001b[0m\u001b[0;34m\u001b[0m\u001b[0m\n\u001b[0m\u001b[1;32m     71\u001b[0m \u001b[0;34m\u001b[0m\u001b[0m\n\u001b[1;32m     72\u001b[0m     \u001b[0;32melif\u001b[0m \u001b[0mgp\u001b[0m \u001b[0;32mand\u001b[0m \u001b[0;32mnot\u001b[0m \u001b[0mproblem\u001b[0m\u001b[0;34m.\u001b[0m\u001b[0mis_dgp\u001b[0m\u001b[0;34m(\u001b[0m\u001b[0;34m)\u001b[0m\u001b[0;34m:\u001b[0m\u001b[0;34m\u001b[0m\u001b[0;34m\u001b[0m\u001b[0m\n",
      "\u001b[0;31mDCPError\u001b[0m: Problem does not follow DCP rules. Specifically:\nThe following constraints are not DCP:\npower(var53 + -3.0, 2) == 0.0 , because the following subexpressions are not:\n|--  power(var53 + -3.0, 2) == 0.0"
     ]
    }
   ],
   "source": [
    "# Non-affine equality constraint\n",
    "y = cvx.Variable(1)\n",
    "obj = cvx.Minimize(cvx.power(y, 3))\n",
    "problem = cvx.Problem(obj, [cvx.power(y-3, 2) == 0])\n",
    "problem.solve(verbose=True)\n",
    "print(y.value)"
   ]
  },
  {
   "cell_type": "code",
   "execution_count": null,
   "metadata": {
    "slideshow": {
     "slide_type": "slide"
    }
   },
   "outputs": [],
   "source": [
    "# Non-convex objective function \n",
    "y = cvx.Variable(2)\n",
    "obj = cvx.Minimize(y[0]**2 - y[1]**2)\n",
    "problem = cvx.Problem(obj)\n",
    "problem.solve(verbose=True)"
   ]
  },
  {
   "cell_type": "markdown",
   "metadata": {
    "slideshow": {
     "slide_type": "slide"
    }
   },
   "source": [
    "## General purpose IPOPT"
   ]
  },
  {
   "cell_type": "markdown",
   "metadata": {
    "slideshow": {
     "slide_type": "slide"
    }
   },
   "source": [
    "#### Smooth problem similar to the problem in part 1\n",
    "\n",
    "\\begin{align*}\n",
    "& \\min_x \\|x\\|^2_2\\\\\n",
    "\\text{s.t. } & Ax = b,\n",
    "\\end{align*}\n",
    "где $A \\in \\mathbb{R}^{m \\times n}$ и $n \\gg m$"
   ]
  },
  {
   "cell_type": "code",
   "execution_count": 8,
   "metadata": {
    "slideshow": {
     "slide_type": "subslide"
    }
   },
   "outputs": [],
   "source": [
    "f = lambda x: np.linalg.norm(x, 2)**2\n",
    "constr = {\"fun\": lambda x: A.dot(x) - b, \n",
    "          \"jac\": lambda x: A,\n",
    "          \"type\": \"eq\"}\n",
    "res = ipopt.minimize_ipopt(f, jac=lambda x: 2 * x, x0=np.zeros(n), constraints=constr)"
   ]
  },
  {
   "cell_type": "code",
   "execution_count": 9,
   "metadata": {
    "slideshow": {
     "slide_type": "subslide"
    }
   },
   "outputs": [
    {
     "name": "stdout",
     "output_type": "stream",
     "text": [
      "5.652963170076841e-16\n"
     ]
    },
    {
     "data": {
      "text/plain": [
       "b'Algorithm terminated successfully at a locally optimal point, satisfying the convergence tolerances (can be specified by options).'"
      ]
     },
     "execution_count": 9,
     "metadata": {},
     "output_type": "execute_result"
    }
   ],
   "source": [
    "print(np.linalg.norm(A.dot(res.info[\"x\"]) - b))\n",
    "res.info[\"status_msg\"]"
   ]
  },
  {
   "cell_type": "markdown",
   "metadata": {
    "slideshow": {
     "slide_type": "slide"
    }
   },
   "source": [
    "#### Non-smooth problem from part 1\n",
    "\n",
    "\\begin{align*}\n",
    "& \\min_x \\|x\\|_1\\\\\n",
    "\\text{s.t. } & Ax = b,\n",
    "\\end{align*}\n",
    "где $A \\in \\mathbb{R}^{m \\times n}$ и $n \\gg m$"
   ]
  },
  {
   "cell_type": "code",
   "execution_count": 10,
   "metadata": {
    "slideshow": {
     "slide_type": "subslide"
    }
   },
   "outputs": [],
   "source": [
    "f = lambda x: np.linalg.norm(x, 1)\n",
    "constr = {\"fun\": lambda x: A.dot(x) - b, \n",
    "          \"jac\": lambda x: A,\n",
    "          \"type\": \"eq\"}\n",
    "res = ipopt.minimize_ipopt(f, jac=lambda x: np.sign(x), x0=np.zeros(n), constraints=constr)"
   ]
  },
  {
   "cell_type": "code",
   "execution_count": 11,
   "metadata": {
    "slideshow": {
     "slide_type": "subslide"
    }
   },
   "outputs": [
    {
     "name": "stdout",
     "output_type": "stream",
     "text": [
      "5.887846720064156e-17\n"
     ]
    },
    {
     "data": {
      "text/plain": [
       "b\"Restoration phase failed, algorithm doesn't know how to proceed.\""
      ]
     },
     "execution_count": 11,
     "metadata": {},
     "output_type": "execute_result"
    }
   ],
   "source": [
    "print(np.linalg.norm(A.dot(res.info[\"x\"]) - b))\n",
    "res.info[\"status_msg\"]"
   ]
  }
 ],
 "metadata": {
  "celltoolbar": "Slideshow",
  "kernelspec": {
   "display_name": "Python 3 (cvxpy)",
   "language": "python",
   "name": "cvxpy"
  },
  "language_info": {
   "codemirror_mode": {
    "name": "ipython",
    "version": 3
   },
   "file_extension": ".py",
   "mimetype": "text/x-python",
   "name": "python",
   "nbconvert_exporter": "python",
   "pygments_lexer": "ipython3",
   "version": "3.6.8"
  }
 },
 "nbformat": 4,
 "nbformat_minor": 2
}
